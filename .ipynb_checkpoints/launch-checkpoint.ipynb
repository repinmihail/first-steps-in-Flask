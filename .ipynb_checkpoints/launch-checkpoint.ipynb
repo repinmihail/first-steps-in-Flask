{
 "cells": [
  {
   "cell_type": "code",
   "execution_count": 2,
   "metadata": {},
   "outputs": [
    {
     "ename": "ModuleNotFoundError",
     "evalue": "No module named 'flask_sqlalchemy'",
     "output_type": "error",
     "traceback": [
      "\u001b[1;31m---------------------------------------------------------------------------\u001b[0m",
      "\u001b[1;31mModuleNotFoundError\u001b[0m                       Traceback (most recent call last)",
      "\u001b[1;32m<ipython-input-2-2d2b319b845d>\u001b[0m in \u001b[0;36m<module>\u001b[1;34m\u001b[0m\n\u001b[1;32m----> 1\u001b[1;33m \u001b[1;32mfrom\u001b[0m \u001b[0mflask_sqlalchemy\u001b[0m \u001b[1;32mimport\u001b[0m \u001b[0mSQLAlchemy\u001b[0m\u001b[1;33m\u001b[0m\u001b[1;33m\u001b[0m\u001b[0m\n\u001b[0m\u001b[0;32m      2\u001b[0m \u001b[1;33m\u001b[0m\u001b[0m\n\u001b[0;32m      3\u001b[0m \u001b[1;32mfrom\u001b[0m \u001b[0mFlaskStart\u001b[0m \u001b[1;32mimport\u001b[0m \u001b[0mdb\u001b[0m\u001b[1;33m\u001b[0m\u001b[1;33m\u001b[0m\u001b[0m\n",
      "\u001b[1;31mModuleNotFoundError\u001b[0m: No module named 'flask_sqlalchemy'"
     ]
    }
   ],
   "source": [
    "from flask_sqlalchemy import SQLAlchemy\n",
    "\n",
    "from FlaskStart import db"
   ]
  },
  {
   "cell_type": "code",
   "execution_count": 4,
   "metadata": {},
   "outputs": [
    {
     "name": "stdout",
     "output_type": "stream",
     "text": [
      "Requirement already satisfied: Flask-SQLAlchemy in c:\\users\\repin\\appdata\\local\\programs\\python\\python39\\lib\\site-packages (3.0.2)\n",
      "Requirement already satisfied: Flask>=2.2 in c:\\users\\repin\\appdata\\local\\programs\\python\\python39\\lib\\site-packages (from Flask-SQLAlchemy) (2.2.2)\n",
      "Requirement already satisfied: SQLAlchemy>=1.4.18 in c:\\users\\repin\\appdata\\local\\programs\\python\\python39\\lib\\site-packages (from Flask-SQLAlchemy) (1.4.46)\n",
      "Requirement already satisfied: importlib-metadata>=3.6.0 in c:\\users\\repin\\appdata\\local\\programs\\python\\python39\\lib\\site-packages (from Flask>=2.2->Flask-SQLAlchemy) (6.0.0)\n",
      "Requirement already satisfied: click>=8.0 in c:\\users\\repin\\appdata\\local\\programs\\python\\python39\\lib\\site-packages (from Flask>=2.2->Flask-SQLAlchemy) (8.1.3)\n",
      "Requirement already satisfied: itsdangerous>=2.0 in c:\\users\\repin\\appdata\\local\\programs\\python\\python39\\lib\\site-packages (from Flask>=2.2->Flask-SQLAlchemy) (2.1.2)\n",
      "Requirement already satisfied: Werkzeug>=2.2.2 in c:\\users\\repin\\appdata\\local\\programs\\python\\python39\\lib\\site-packages (from Flask>=2.2->Flask-SQLAlchemy) (2.2.2)\n",
      "Requirement already satisfied: Jinja2>=3.0 in c:\\users\\repin\\appdata\\local\\programs\\python\\python39\\lib\\site-packages (from Flask>=2.2->Flask-SQLAlchemy) (3.1.2)\n",
      "Requirement already satisfied: colorama in c:\\users\\repin\\appdata\\local\\programs\\python\\python39\\lib\\site-packages (from click>=8.0->Flask>=2.2->Flask-SQLAlchemy) (0.4.6)\n",
      "Requirement already satisfied: zipp>=0.5 in c:\\users\\repin\\appdata\\local\\programs\\python\\python39\\lib\\site-packages (from importlib-metadata>=3.6.0->Flask>=2.2->Flask-SQLAlchemy) (3.11.0)\n",
      "Requirement already satisfied: MarkupSafe>=2.0 in c:\\users\\repin\\appdata\\local\\programs\\python\\python39\\lib\\site-packages (from Jinja2>=3.0->Flask>=2.2->Flask-SQLAlchemy) (2.1.1)\n",
      "Requirement already satisfied: greenlet!=0.4.17 in c:\\users\\repin\\appdata\\local\\programs\\python\\python39\\lib\\site-packages (from SQLAlchemy>=1.4.18->Flask-SQLAlchemy) (2.0.1)\n"
     ]
    },
    {
     "name": "stderr",
     "output_type": "stream",
     "text": [
      "WARNING: You are using pip version 21.1.3; however, version 22.3.1 is available.\n",
      "You should consider upgrading via the 'c:\\users\\repin\\appdata\\local\\programs\\python\\python39\\python.exe -m pip install --upgrade pip' command.\n"
     ]
    }
   ],
   "source": [
    "! pip install -U Flask-SQLAlchemy"
   ]
  },
  {
   "cell_type": "code",
   "execution_count": 7,
   "metadata": {},
   "outputs": [
    {
     "ename": "ModuleNotFoundError",
     "evalue": "No module named 'flask_sqlalchemy'",
     "output_type": "error",
     "traceback": [
      "\u001b[1;31m---------------------------------------------------------------------------\u001b[0m",
      "\u001b[1;31mModuleNotFoundError\u001b[0m                       Traceback (most recent call last)",
      "\u001b[1;32m<ipython-input-7-135dd16ad520>\u001b[0m in \u001b[0;36m<module>\u001b[1;34m\u001b[0m\n\u001b[1;32m----> 1\u001b[1;33m \u001b[1;32mimport\u001b[0m \u001b[0mflask_sqlalchemy\u001b[0m\u001b[1;33m\u001b[0m\u001b[1;33m\u001b[0m\u001b[0m\n\u001b[0m",
      "\u001b[1;31mModuleNotFoundError\u001b[0m: No module named 'flask_sqlalchemy'"
     ]
    }
   ],
   "source": [
    "import flask_sqlalchemy"
   ]
  }
 ],
 "metadata": {
  "kernelspec": {
   "display_name": "base",
   "language": "python",
   "name": "python3"
  },
  "language_info": {
   "codemirror_mode": {
    "name": "ipython",
    "version": 3
   },
   "file_extension": ".py",
   "mimetype": "text/x-python",
   "name": "python",
   "nbconvert_exporter": "python",
   "pygments_lexer": "ipython3",
   "version": "3.8.3"
  },
  "orig_nbformat": 4,
  "vscode": {
   "interpreter": {
    "hash": "39bd69f8226228c5a20f5a5a8e3603d584e2c4b9ef3023e841c41b095bec333d"
   }
  }
 },
 "nbformat": 4,
 "nbformat_minor": 2
}
